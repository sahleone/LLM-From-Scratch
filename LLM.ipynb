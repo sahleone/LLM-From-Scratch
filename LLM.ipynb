{
 "cells": [
  {
   "cell_type": "markdown",
   "metadata": {},
   "source": [
    "# Building LLM From Scratch"
   ]
  },
  {
   "cell_type": "markdown",
   "metadata": {},
   "source": [
    "This code is adapted from a freeCodeCamp YouTube tutorial, which you can watch [here](https://www.youtube.com/watch?v=UU1WVnMk4E8). Note that this version is not identical to the [code](https://github.com/Infatoshi/fcc-intro-to-llms) provided in the tutorial. I have made some changes just because. also working on a mac\n",
    "\n",
    "needed to remove the prefix and suffix from The Project Gutenberg in the text\n"
   ]
  },
  {
   "cell_type": "markdown",
   "metadata": {},
   "source": [
    "## Imports"
   ]
  },
  {
   "cell_type": "code",
   "execution_count": 1,
   "metadata": {},
   "outputs": [
    {
     "name": "stderr",
     "output_type": "stream",
     "text": [
      "/Users/rhysjervis/Documents/GitHub/LLM-From-Scratch/.venv/lib/python3.11/site-packages/tqdm/auto.py:21: TqdmWarning: IProgress not found. Please update jupyter and ipywidgets. See https://ipywidgets.readthedocs.io/en/stable/user_install.html\n",
      "  from .autonotebook import tqdm as notebook_tqdm\n"
     ]
    }
   ],
   "source": [
    "import torch\n",
    "import torch.nn as nn\n",
    "from torch.nn import functional  as F\n",
    "import os\n",
    "\n",
    "from matplotlib import pyplot as plt\n",
    "from tqdm import tqdm\n",
    "\n",
    "\n",
    "from transformers import GPT2Tokenizer\n",
    "from datasets import load_dataset, Dataset\n",
    "from sklearn.model_selection import train_test_split\n",
    "from torch.utils.data import DataLoader\n",
    "import pandas as pd\n",
    "\n",
    "from transformers import AdamW, get_linear_schedule_with_warmup\n"
   ]
  },
  {
   "cell_type": "markdown",
   "metadata": {},
   "source": [
    "## Global Var/hyperparameters"
   ]
  },
  {
   "cell_type": "code",
   "execution_count": 2,
   "metadata": {},
   "outputs": [],
   "source": [
    "config = {}\n",
    "config['block_size'] = 64\n",
    "config['batch_size'] = 32\n",
    "config['epoch'] = 10000\n",
    "config['learning_rate'] = 5e-5 #3e-3, 3e-4, 1e-3,1e-4\n",
    "config['eval_iters'] = 250\n",
    "config['n_embd'] = 128\n",
    "config['n_head'] = 2\n",
    "config['n_layer'] = 4\n",
    "config['dropout'] = 0.2\n",
    "config['device'] = torch.device('cpu') # set as default"
   ]
  },
  {
   "cell_type": "markdown",
   "metadata": {},
   "source": [
    "## Device"
   ]
  },
  {
   "cell_type": "code",
   "execution_count": 3,
   "metadata": {},
   "outputs": [
    {
     "name": "stdout",
     "output_type": "stream",
     "text": [
      "Using MPS\n",
      "Device: mps\n"
     ]
    }
   ],
   "source": [
    "# Set device based on availability\n",
    "if torch.cuda.is_available():\n",
    "    device = torch.device('cuda')\n",
    "    print(\"Using CUDA (GPU)\")\n",
    "elif torch.backends.mps.is_available():\n",
    "    device = torch.device('mps')  # Assuming first GPU if MPS is available\n",
    "    print(\"Using MPS\")\n",
    "else:\n",
    "    device = torch.device('cpu')\n",
    "    print(\"Using CPU\")\n",
    "\n",
    "print(\"Device:\", device)\n",
    "\n",
    "config['device'] = device"
   ]
  },
  {
   "cell_type": "markdown",
   "metadata": {},
   "source": [
    "## Dataset"
   ]
  },
  {
   "cell_type": "code",
   "execution_count": 4,
   "metadata": {},
   "outputs": [
    {
     "name": "stdout",
     "output_type": "stream",
     "text": [
      "['\\t', '\\n', ' ', '!', '\"', '$', '&', \"'\", '(', ')', '*', ',', '-', '.', '/', '0', '1', '2', '3', '4', '5', '6', '7', '8', '9', ':', ';', '=', '?', 'A', 'B', 'C', 'D', 'E', 'F', 'G', 'H', 'I', 'J', 'K', 'L', 'M', 'N', 'O', 'P', 'Q', 'R', 'S', 'T', 'U', 'V', 'W', 'X', 'Y', 'Z', '[', ']', '_', 'a', 'b', 'c', 'd', 'e', 'f', 'g', 'h', 'i', 'j', 'k', 'l', 'm', 'n', 'o', 'p', 'q', 'r', 's', 't', 'u', 'v', 'w', 'x', 'y', 'z', '£', '°', '´', '·', 'À', 'Á', 'Æ', 'Ç', 'É', 'à', 'á', 'â', 'ä', 'æ', 'ç', 'è', 'é', 'ê', 'ë', 'í', 'î', 'ï', 'ó', 'ô', 'ö', 'ú', 'û', 'ü', 'ý', 'Œ', 'œ', 'Φ', 'α', 'η', 'λ', 'μ', 'ν', 'ξ', 'ο', 'ρ', 'ς', 'τ', 'ϰ', 'ו', 'ח', 'ὁ', 'ὑ', '—', '‘', '’', '“', '”', '…', '─', '❧', '\\ufeff']\n",
      "length of text: 11770361\n",
      "Set of characters: 140\n"
     ]
    }
   ],
   "source": [
    "# Initialize an empty string to hold all the text\n",
    "all_text = \"\"\n",
    "\n",
    "# Path to the directory containing the book files\n",
    "books_dir = 'books'\n",
    "\n",
    "# Loop through each file in the directory\n",
    "for filename in os.listdir(books_dir):\n",
    "    if filename.endswith('.txt'):\n",
    "        with open(os.path.join(books_dir, filename), 'r', encoding='utf-8') as f:\n",
    "            # Read the content of the file and append it to all_text\n",
    "            all_text += f.read() + \" \"  # Add a \n",
    "    \n",
    "vocab = sorted(set(all_text))\n",
    "config['vocab_size'] = len(vocab)\n",
    "print(vocab)\n",
    "print(\"length of text:\",len(all_text))\n",
    "print(f\"Set of characters: {config['vocab_size']}\")\n",
    "#print(\"First Fifty Characters:\\n\", text[:50])"
   ]
  },
  {
   "cell_type": "code",
   "execution_count": 5,
   "metadata": {},
   "outputs": [],
   "source": [
    "string_to_int = {ch:i for i,ch in enumerate(vocab)}\n",
    "int_to_string = {i:ch for i,ch in enumerate(vocab)}\n",
    "\n",
    "def encoder(string:str):\n",
    "    \n",
    "    return [string_to_int[ch] for ch in string]\n",
    "\n",
    "def decoder(vector):\n",
    "    \n",
    "    return \" \".join([int_to_string[i] for i in vector])\n",
    "    \n",
    "    \n",
    "data = torch.tensor(encoder(all_text),dtype=torch.long)"
   ]
  },
  {
   "cell_type": "markdown",
   "metadata": {},
   "source": [
    "## Train/Validation split"
   ]
  },
  {
   "cell_type": "code",
   "execution_count": 6,
   "metadata": {},
   "outputs": [
    {
     "name": "stdout",
     "output_type": "stream",
     "text": [
      "Inputs:\n",
      "tensor([[61, 66, 63,  ..., 76, 69, 66],\n",
      "        [71, 61,  2,  ...,  2, 76, 73],\n",
      "        [76, 77, 58,  ..., 63, 66, 75],\n",
      "        ...,\n",
      "        [62, 75, 76,  ..., 77, 65, 66],\n",
      "        [76, 77,  2,  ..., 78, 75, 79],\n",
      "        [60, 65, 66,  ..., 58, 66, 71]], device='mps:0')\n",
      "Targets:\n",
      "tensor([[66, 63, 63,  ..., 69, 66, 73],\n",
      "        [61,  2, 64,  ..., 76, 73, 62],\n",
      "        [77, 58, 71,  ..., 66, 75, 76],\n",
      "        ...,\n",
      "        [75, 76, 11,  ..., 65, 66, 76],\n",
      "        [77,  2, 72,  ..., 75, 79, 82],\n",
      "        [65, 66, 72,  ..., 66, 71, 76]], device='mps:0')\n"
     ]
    }
   ],
   "source": [
    "# Split the data into training and validation sets\n",
    "n = int(0.8 * len(data))\n",
    "train_data = data[:n]\n",
    "val_data = data[n:]\n",
    "\n",
    "def get_batch(split):\n",
    "    \"\"\"\n",
    "    Function to generate a batch of data.\n",
    "    \n",
    "    Parameters:\n",
    "    - split (str): 'train' or 'val' to specify which dataset to use.\n",
    "    \n",
    "    Returns:\n",
    "    - x (Tensor): Input tensor of shape (batch_size, block_size).\n",
    "    - y (Tensor): Target tensor of shape (batch_size, block_size).\n",
    "    \"\"\"\n",
    "    # Select the appropriate dataset based on the split\n",
    "    data = train_data if split == 'train' else val_data\n",
    "    \n",
    "    # Randomly choose starting indices for the batch\n",
    "    ix = torch.randint(len(data) - config['block_size'], (config['batch_size'],))\n",
    "    \n",
    "    # Generate the input (x) and target (y) tensors\n",
    "    x = torch.stack([data[i:i + config['block_size']] for i in ix])\n",
    "    y = torch.stack([data[i + 1:i + config['block_size'] + 1] for i in ix])\n",
    "    \n",
    "    # Move the tensors to the specified device (CPU, CUDA, or MPS)\n",
    "    x, y = x.to(config['device']), y.to(config['device'])\n",
    "    \n",
    "    return x, y\n",
    "\n",
    "# Example usage: Get a batch from the training data\n",
    "x, y = get_batch('train')\n",
    "\n",
    "# Display the input and target tensors\n",
    "print('Inputs:')\n",
    "print(x)\n",
    "print('Targets:')\n",
    "print(y)\n"
   ]
  },
  {
   "cell_type": "markdown",
   "metadata": {},
   "source": [
    "## Model"
   ]
  },
  {
   "cell_type": "code",
   "execution_count": 7,
   "metadata": {},
   "outputs": [],
   "source": [
    "class BigramLanguageModel(nn.Module):\n",
    "    def __init__(self, vocab_size):\n",
    "        super().__init__()\n",
    "        self.token_embedding_table = nn.Embedding(vocab_size, vocab_size)\n",
    "        \n",
    "        \n",
    "    def forward(self, index, targets=None):\n",
    "        logits = self.token_embedding_table(index)\n",
    "        \n",
    "        if targets is None:\n",
    "            loss = None\n",
    "        else:\n",
    "            B, T, C = logits.shape\n",
    "            logits = logits.view(B*T, C)\n",
    "            targets = targets.view(B*T)\n",
    "            loss = F.cross_entropy(logits, targets)\n",
    "        \n",
    "        return logits, loss\n",
    "    \n",
    "    def generate(self, index, max_new_tokens):\n",
    "        for _ in range(max_new_tokens):\n",
    "            logits, _ = self(index)  # Call model directly instead of forward\n",
    "            logits = logits[:, -1, :]  # Focus on the last time step\n",
    "            probs = F.softmax(logits, dim=-1)  # Get probabilities\n",
    "            index_next = torch.multinomial(probs, num_samples=1)  # Sample from distribution\n",
    "            index = torch.cat((index, index_next), dim=1)  # Append sampled index\n",
    "        return index\n",
    "\n",
    "model = BigramLanguageModel(config['vocab_size'])\n",
    "m = model.to(device)\n",
    "\n",
    "@torch.no_grad()\n",
    "def estimate_loss():\n",
    "    out = {}\n",
    "    model.eval()\n",
    "    for split in ['train', 'val']:\n",
    "        losses = torch.zeros(config['eval_iters'])\n",
    "        for k in range(config['eval_iters']):\n",
    "            X, Y = get_batch(split)\n",
    "            _, loss = model(X, Y)\n",
    "            losses[k] = loss.item()\n",
    "        out[split] = losses.mean()\n",
    "    model.train()\n",
    "    return out\n",
    "\n",
    "class EarlyStopping:\n",
    "    def __init__(self, patience=5, min_delta=0):\n",
    "        \"\"\"\n",
    "        Args:\n",
    "            patience (int): How many epochs to wait after last time the validation loss improved.\n",
    "                            Default: 5\n",
    "            min_delta (float): Minimum change in the monitored quantity to qualify as an improvement.\n",
    "                               Default: 0\n",
    "        \"\"\"\n",
    "        self.patience = patience\n",
    "        self.min_delta = min_delta\n",
    "        self.counter = 0\n",
    "        self.best_loss = None\n",
    "        self.early_stop = False\n",
    "\n",
    "    def __call__(self, val_loss):\n",
    "        if self.best_loss is None:\n",
    "            self.best_loss = val_loss\n",
    "        elif val_loss > self.best_loss - self.min_delta:\n",
    "            self.counter += 1\n",
    "            if self.counter >= self.patience:\n",
    "                self.early_stop = True\n",
    "        else:\n",
    "            self.best_loss = val_loss\n",
    "            self.counter = 0\n"
   ]
  },
  {
   "cell_type": "code",
   "execution_count": 8,
   "metadata": {},
   "outputs": [
    {
     "name": "stdout",
     "output_type": "stream",
     "text": [
      "step: 0, train loss: 5.229, val loss: 5.232\n",
      "step: 250, train loss: 5.212, val loss: 5.209\n",
      "step: 500, train loss: 5.190, val loss: 5.191\n",
      "step: 750, train loss: 5.169, val loss: 5.173\n",
      "step: 1000, train loss: 5.149, val loss: 5.155\n",
      "step: 1250, train loss: 5.132, val loss: 5.132\n",
      "step: 1500, train loss: 5.115, val loss: 5.113\n",
      "step: 1750, train loss: 5.091, val loss: 5.094\n",
      "step: 2000, train loss: 5.074, val loss: 5.078\n",
      "step: 2250, train loss: 5.055, val loss: 5.058\n",
      "step: 2500, train loss: 5.035, val loss: 5.042\n",
      "step: 2750, train loss: 5.018, val loss: 5.020\n",
      "step: 3000, train loss: 4.999, val loss: 5.003\n",
      "step: 3250, train loss: 4.980, val loss: 4.983\n",
      "step: 3500, train loss: 4.959, val loss: 4.964\n",
      "step: 3750, train loss: 4.941, val loss: 4.945\n",
      "step: 4000, train loss: 4.924, val loss: 4.927\n",
      "step: 4250, train loss: 4.907, val loss: 4.910\n",
      "step: 4500, train loss: 4.888, val loss: 4.892\n",
      "step: 4750, train loss: 4.867, val loss: 4.869\n",
      "step: 5000, train loss: 4.850, val loss: 4.856\n",
      "step: 5250, train loss: 4.833, val loss: 4.835\n",
      "step: 5500, train loss: 4.814, val loss: 4.817\n",
      "step: 5750, train loss: 4.795, val loss: 4.798\n",
      "step: 6000, train loss: 4.777, val loss: 4.783\n",
      "step: 6250, train loss: 4.760, val loss: 4.761\n",
      "step: 6500, train loss: 4.741, val loss: 4.745\n",
      "step: 6750, train loss: 4.727, val loss: 4.728\n",
      "step: 7000, train loss: 4.704, val loss: 4.710\n",
      "step: 7250, train loss: 4.686, val loss: 4.693\n",
      "step: 7500, train loss: 4.671, val loss: 4.676\n",
      "step: 7750, train loss: 4.654, val loss: 4.658\n",
      "step: 8000, train loss: 4.635, val loss: 4.642\n",
      "step: 8250, train loss: 4.620, val loss: 4.624\n",
      "step: 8500, train loss: 4.601, val loss: 4.605\n",
      "step: 8750, train loss: 4.582, val loss: 4.587\n",
      "step: 9000, train loss: 4.567, val loss: 4.571\n",
      "step: 9250, train loss: 4.548, val loss: 4.554\n",
      "step: 9500, train loss: 4.532, val loss: 4.540\n",
      "step: 9750, train loss: 4.514, val loss: 4.521\n",
      "Final loss: 4.482\n"
     ]
    }
   ],
   "source": [
    "# Initialize the early stopping object\n",
    "early_stopping = EarlyStopping(patience=3, min_delta=0.001)\n",
    "\n",
    "# create a PyTorch optimizer\n",
    "optimizer = torch.optim.AdamW(model.parameters(), lr=config['learning_rate'])\n",
    "\n",
    "# Initialize lists to store the losses\n",
    "train_losses = []\n",
    "val_losses = []\n",
    "\n",
    "for iter in range(config['epoch']):\n",
    "    if iter % config['eval_iters'] == 0:\n",
    "        losses = estimate_loss()\n",
    "        train_losses.append(losses['train'])\n",
    "        val_losses.append(losses['val'])\n",
    "\n",
    "        print(f\"step: {iter}, train loss: {losses['train']:.3f}, val loss: {losses['val']:.3f}\")\n",
    "\n",
    "\n",
    "       # Check for early stopping\n",
    "        early_stopping(losses['val'])\n",
    "        \n",
    "        if early_stopping.early_stop:\n",
    "            print(\"Early stopping triggered. Stopping training.\")\n",
    "            break\n",
    "        \n",
    "        \n",
    "    # sample a batch of data\n",
    "    xb, yb = get_batch('train')\n",
    "\n",
    "    # evaluate the loss\n",
    "    logits, loss = model.forward(xb, yb)\n",
    "    optimizer.zero_grad(set_to_none=True)\n",
    "    loss.backward()\n",
    "    optimizer.step()\n",
    "\n",
    "# Print the final loss value\n",
    "print(f\"Final loss: {loss.item():.3f}\")\n"
   ]
  },
  {
   "cell_type": "code",
   "execution_count": 9,
   "metadata": {},
   "outputs": [
    {
     "data": {
      "image/png": "[encoded data removed]",
      "text/plain": [
       "<Figure size 1000x500 with 1 Axes>"
      ]
     },
     "metadata": {},
     "output_type": "display_data"
    }
   ],
   "source": [
    "# Plot the training and validation losses\n",
    "plt.figure(figsize=(10, 5))\n",
    "plt.plot(train_losses, label='Train Loss')\n",
    "plt.plot(val_losses, label='Validation Loss')\n",
    "plt.xlabel('Evaluation Iterations')\n",
    "plt.ylabel('Loss')\n",
    "plt.title('Training and Validation Loss Over Time')\n",
    "plt.legend()\n",
    "plt.show()\n"
   ]
  },
  {
   "cell_type": "code",
   "execution_count": 10,
   "metadata": {},
   "outputs": [],
   "source": [
    "class Head(nn.Module):\n",
    "    \"\"\" \n",
    "    One head of self-attention mechanism.\n",
    "\n",
    "    This class implements a single self-attention head,\n",
    "    which is a component of the multi-head self-attention mechanism in transformer models.\n",
    "    The self-attention mechanism allows the model to focus on different parts of the input sequence\n",
    "    when making predictions.\n",
    "    \"\"\"\n",
    "\n",
    "    def __init__(self, head_size):\n",
    "        \"\"\"\n",
    "        Initializes the Head instance.\n",
    "\n",
    "        Args:\n",
    "            head_size (int): The size of the attention head,\n",
    "            which is the dimensionality of the key, query, and value vectors.\n",
    "        \"\"\"\n",
    "        super().__init__()\n",
    "        self.key = nn.Linear(config['n_embd'], head_size, bias=False)\n",
    "        self.query = nn.Linear(config['n_embd'], head_size, bias=False)\n",
    "        self.value = nn.Linear(config['n_embd'], head_size, bias=False)\n",
    "        self.register_buffer('tril', torch.tril(torch.ones(config['block_size'], config['block_size'])))\n",
    "\n",
    "        self.dropout = nn.Dropout(config['dropout'])\n",
    "\n",
    "    def forward(self, x):\n",
    "        \"\"\"\n",
    "        Performs a forward pass through the self-attention head.\n",
    "\n",
    "        Args:\n",
    "            x (torch.Tensor): Input tensor of shape (batch_size, time_steps, channels).\n",
    "\n",
    "        Returns:\n",
    "            torch.Tensor: Output tensor of shape (batch_size, time_steps, head_size), \n",
    "            which is the result of applying the self-attention mechanism to the input.\n",
    "        \"\"\"\n",
    "\n",
    "        # Unpack the dimensions of the input tensor\n",
    "        B, T, C = x.shape\n",
    "\n",
    "        # Transform the input into key, query, and value vectors\n",
    "        k = self.key(x)   # (B, T, head_size)\n",
    "        q = self.query(x) # (B, T, head_size)\n",
    "\n",
    "        # compute attention scores (\"affinities\")\n",
    "        wei = q @ k.transpose(-2,-1) * k.shape[-1]**-0.5 # (B, T, hs) @ (B, hs, T) -> (B, T, T)\n",
    "\n",
    "        # Apply masking to prevent attending to future positions\n",
    "        wei = wei.masked_fill(self.tril[:T, :T] == 0, float('-inf')) # (B, T, T)\n",
    "\n",
    "        # Normalize the attention scores using softmax\n",
    "        wei = F.softmax(wei, dim=-1) # (B, T, T)\n",
    "\n",
    "        # Apply dropout for regularization\n",
    "        wei = self.dropout(wei)\n",
    "\n",
    "        # perform the weighted aggregation of the values\n",
    "        v = self.value(x) # (B,T,hs)\n",
    "        out = wei @ v # (B, T, T) @ (B, T, hs) -> (B, T, hs)\n",
    "        return out\n",
    "\n",
    "class MultiHeadAttention(nn.Module):\n",
    "    \"\"\" \n",
    "    Multiple heads of self-attention in parallel.\n",
    "\n",
    "    This class implements the multi-head attention mechanism,\n",
    "      which allows the model to focus on different parts of the input sequence in parallel.\n",
    "    \"\"\"\n",
    "\n",
    "    def __init__(self, num_heads, head_size):\n",
    "        \"\"\"\n",
    "        Initializes the MultiHeadAttention instance.\n",
    "\n",
    "        Args:\n",
    "            num_heads (int): The number of attention heads.\n",
    "            head_size (int): The size of each attention head.\n",
    "        \"\"\"\n",
    "        super().__init__()\n",
    "        self.heads = nn.ModuleList([Head(head_size) for _ in range(num_heads)])\n",
    "        self.proj = nn.Linear(head_size * num_heads, config['n_embd'])\n",
    "        self.dropout = nn.Dropout(config['dropout'])\n",
    "\n",
    "    def forward(self, x):\n",
    "        \"\"\"\n",
    "        Performs a forward pass through the multi-head attention mechanism.\n",
    "\n",
    "        Args:\n",
    "            x (torch.Tensor): Input tensor of shape (batch_size, time_steps, channels).\n",
    "\n",
    "        Returns:\n",
    "            torch.Tensor: Output tensor of shape (batch_size, time_steps, config['n_embd']),\n",
    "            which is the result of applying the multi-head attention mechanism to the input.\n",
    "        \"\"\"\n",
    "\n",
    "        out = torch.cat([h(x) for h in self.heads], dim=-1) # (B, T, F) -> (B, T, [h1, h1, h1, h1, h2, h2, h2, h2, h3, h3, h3, h3])\n",
    "        out = self.dropout(self.proj(out))\n",
    "        return out\n",
    "    \n",
    "\n",
    "class FeedFoward(nn.Module):\n",
    "    \"\"\" \n",
    "    A simple feedforward neural network with non-linearity and dropout.\n",
    "    \n",
    "    \"\"\"\n",
    "\n",
    "    def __init__(self, n_embd):\n",
    "        \"\"\"\n",
    "        Initializes the FeedForward module.\n",
    "\n",
    "        Args:\n",
    "            n_embd (int): The dimensionality of the input embeddings.\n",
    "        \"\"\"\n",
    "        super().__init__()\n",
    "        self.net = nn.Sequential(\n",
    "            nn.Linear(n_embd, 4 * n_embd),\n",
    "            nn.ReLU(),\n",
    "            nn.Linear(4 * n_embd, n_embd),\n",
    "            nn.Dropout(config['dropout']),\n",
    "        )\n",
    "\n",
    "    def forward(self, x):\n",
    "        \"\"\"\n",
    "        Performs a forward pass through the feedforward network.\n",
    "\n",
    "        Args:\n",
    "            x (torch.Tensor): Input tensor of shape (batch_size, sequence_length, n_embd).\n",
    "\n",
    "        Returns:\n",
    "            torch.Tensor: Output tensor of the same shape as the input, \n",
    "            but processed by the feedforward network.\n",
    "        \"\"\"\n",
    "        return self.net(x)\n",
    "    \n",
    "class Block(nn.Module):\n",
    "    \"\"\" \n",
    "    A Transformer block consisting of multi-head self-attention and a feedforward network.\n",
    "\n",
    "    \"\"\"\n",
    "\n",
    "    def __init__(self, n_embd, n_head):\n",
    "        \"\"\"\n",
    "        Initializes the Transformer Block.\n",
    "\n",
    "        Args:\n",
    "            n_embd (int): The dimensionality of the input embeddings.\n",
    "            n_head (int): The number of attention heads.\n",
    "        \"\"\"\n",
    "        super().__init__()\n",
    "        head_size = n_embd // n_head\n",
    "        self.sa = MultiHeadAttention(n_head, head_size)\n",
    "        self.ffwd = FeedFoward(n_embd)\n",
    "        self.ln1 = nn.LayerNorm(n_embd)\n",
    "        self.ln2 = nn.LayerNorm(n_embd)\n",
    "\n",
    "    def forward(self, x):\n",
    "        \"\"\"\n",
    "        Performs a forward pass through the Transformer block.\n",
    "\n",
    "        Args:\n",
    "            x (torch.Tensor): Input tensor of shape (batch_size, sequence_length, n_embd).\n",
    "\n",
    "        Returns:\n",
    "            torch.Tensor: Output tensor of the same shape as the input, \n",
    "            processed by the multi-head self-attention and feedforward network.\n",
    "        \"\"\"\n",
    "        # Multi-head self-attention followed by residual connection and layer normalization\n",
    "        y = self.sa(x)\n",
    "        x = self.ln1(x + y)\n",
    "\n",
    "        # Feedforward network followed by residual connection and layer normalization\n",
    "        y = self.ffwd(x)\n",
    "        x = self.ln2(x + y)\n",
    "        \n",
    "        return x\n",
    "    \n",
    "class GPTLanguageModel(nn.Module):\n",
    "    \"\"\"\n",
    "    A Generative Pre-trained Transformer (GPT) language model.\n",
    "    \n",
    "    This model generates text by predicting the next token in a sequence based on previous tokens.\n",
    "    It is composed of token and positional embeddings, multiple transformer blocks, \n",
    "    and a final linear layer to output logits for each token in the vocabulary.\n",
    "    \"\"\"\n",
    "    def __init__(self, vocab_size):\n",
    "        \"\"\"\n",
    "        Initializes the GPT language model.\n",
    "\n",
    "        Args:\n",
    "            vocab_size (int): The size of the vocabulary (i.e., the number of unique tokens).\n",
    "        \"\"\"\n",
    "        super().__init__()\n",
    "        self.token_embedding_table = nn.Embedding(vocab_size, config['n_embd'])\n",
    "        self.position_embedding_table = nn.Embedding(config['block_size'], config['n_embd'])\n",
    "        self.blocks = nn.Sequential(*[Block(config['n_embd'], n_head=config['n_head']) for _ in range(config['n_layer'])])\n",
    "        self.ln_f = nn.LayerNorm(config['n_embd']) # final layer norm\n",
    "        self.lm_head = nn.Linear(config['n_embd'], vocab_size)\n",
    "        \n",
    "        \n",
    "        self.apply(self._init_weights)\n",
    "\n",
    "    def _init_weights(self, module):\n",
    "        \"\"\"\n",
    "        Initializes the weights of the model's layers.\n",
    "\n",
    "        Args:\n",
    "            module (nn.Module): A module from the model, either Linear or Embedding.\n",
    "        \"\"\"\n",
    "        if isinstance(module, nn.Linear):\n",
    "            torch.nn.init.normal_(module.weight, mean=0.0, std=0.02)\n",
    "            if module.bias is not None:\n",
    "                torch.nn.init.zeros_(module.bias)\n",
    "        elif isinstance(module, nn.Embedding):\n",
    "            torch.nn.init.normal_(module.weight, mean=0.0, std=0.02)\n",
    "\n",
    "    def forward(self, index, targets=None):\n",
    "        \"\"\"\n",
    "        Forward pass through the GPT model.\n",
    "\n",
    "        Args:\n",
    "            index (torch.Tensor): Input tensor of shape (batch_size, sequence_length) with token indices.\n",
    "            targets (torch.Tensor, optional): Target tensor of shape (batch_size, sequence_length) for calculating loss.\n",
    "\n",
    "        Returns:\n",
    "            tuple: A tuple containing:\n",
    "                - logits (torch.Tensor): Output logits of shape (batch_size, sequence_length, vocab_size).\n",
    "                - loss (torch.Tensor or None): The cross-entropy loss if targets are provided, otherwise None.\n",
    "        \"\"\"\n",
    "\n",
    "        B, T = index.shape\n",
    "        \n",
    "    \n",
    "        # Get token and position embeddings\n",
    "        tok_emb = self.token_embedding_table(index) # (B,T,C)\n",
    "        pos_emb = self.position_embedding_table(torch.arange(T, device=device)) # (T,C)\n",
    "        \n",
    "        # Combine token and position embeddings\n",
    "        x = tok_emb + pos_emb # (B,T,C)\n",
    "        \n",
    "        # Pass through transformer blocks\n",
    "        x = self.blocks(x) # (B,T,C)\n",
    "        \n",
    "        # Final layer normalization\n",
    "        x = self.ln_f(x) # (B,T,C)\n",
    "        \n",
    "        # Output logits for each token in the vocabulary\n",
    "        logits = self.lm_head(x) # (B,T,vocab_size)\n",
    "        \n",
    "        \n",
    "        loss = None\n",
    "        if targets is not None:\n",
    "            B, T, C = logits.shape\n",
    "            logits = logits.view(B*T, C)\n",
    "            targets = targets.view(B*T)\n",
    "            loss = F.cross_entropy(logits, targets)\n",
    "        \n",
    "        return logits, loss\n",
    "    \n",
    "    def generate(self, index, max_new_tokens):\n",
    "        \"\"\"\n",
    "        Generates a sequence of tokens using the model.\n",
    "\n",
    "        Args:\n",
    "            index (torch.Tensor): Input tensor of shape (batch_size, sequence_length) with token indices.\n",
    "            max_new_tokens (int): The maximum number of new tokens to generate.\n",
    "\n",
    "        Returns:\n",
    "            torch.Tensor: A tensor of shape (batch_size, sequence_length + max_new_tokens) with the generated token indices.\n",
    "        \"\"\"\n",
    "\n",
    "        for _ in range(max_new_tokens):\n",
    "            # Crop the input sequence to the last 'block_size' tokens. \n",
    "            # This ensures that the model considers only the most recent tokens in the sequence, \n",
    "            # which are the most relevant for predicting the next token. \n",
    "            # This also helps in maintaining computational efficiency by not exceeding the model's designed capacity \n",
    "            # for handling context, which is limited by 'block_size'.\n",
    "            index_cond = index[:, -config['block_size']:]\n",
    "\n",
    "            # Get predictions for the next token\n",
    "            logits, loss = self.forward(index_cond)\n",
    "\n",
    "            # Focus only on the last time step's logits\n",
    "            logits = logits[:, -1, :] # becomes (B, C)\n",
    "\n",
    "            # apply softmax to get probabilities\n",
    "            probs = F.softmax(logits, dim=-1) # (B, C)\n",
    "\n",
    "            # Sample the next token from the probability distribution\n",
    "            index_next = torch.multinomial(probs, num_samples=1) # (B, 1)\n",
    "\n",
    "            # Append the sampled token to the current sequence\n",
    "            index = torch.cat((index, index_next), dim=1) # (B, T+1)\n",
    "        return index"
   ]
  },
  {
   "cell_type": "code",
   "execution_count": 11,
   "metadata": {},
   "outputs": [
    {
     "name": "stderr",
     "output_type": "stream",
     "text": [
      "/Users/rhysjervis/Documents/GitHub/LLM-From-Scratch/.venv/lib/python3.11/site-packages/transformers/tokenization_utils_base.py:1601: FutureWarning: `clean_up_tokenization_spaces` was not set. It will be set to `True` by default. This behavior will be depracted in transformers v4.45, and will be then set to `False` by default. For more details check this issue: https://github.com/huggingface/transformers/issues/31884\n",
      "  warnings.warn(\n",
      "Map: 100%|██████████| 8013/8013 [00:19<00:00, 410.19 examples/s]\n",
      "/Users/rhysjervis/Documents/GitHub/LLM-From-Scratch/.venv/lib/python3.11/site-packages/transformers/optimization.py:591: FutureWarning: This implementation of AdamW is deprecated and will be removed in a future version. Use the PyTorch implementation torch.optim.AdamW instead, or set `no_deprecation_warning=True` to disable this warning\n",
      "  warnings.warn(\n",
      "100%|██████████| 201/201 [00:16<00:00, 12.31it/s]\n"
     ]
    },
    {
     "name": "stdout",
     "output_type": "stream",
     "text": [
      "Epoch 0, Average Loss: 10.06820160120874\n"
     ]
    },
    {
     "name": "stderr",
     "output_type": "stream",
     "text": [
      " 10%|█         | 1/10 [00:17<02:33, 17.00s/it]"
     ]
    },
    {
     "name": "stdout",
     "output_type": "stream",
     "text": [
      "Validation Loss after Epoch 0: 9.324832145984356\n"
     ]
    },
    {
     "name": "stderr",
     "output_type": "stream",
     "text": [
      "100%|██████████| 201/201 [00:15<00:00, 13.14it/s]\n"
     ]
    },
    {
     "name": "stdout",
     "output_type": "stream",
     "text": [
      "Epoch 1, Average Loss: 8.700730461386305\n"
     ]
    },
    {
     "name": "stderr",
     "output_type": "stream",
     "text": [
      " 20%|██        | 2/10 [00:32<02:10, 16.30s/it]"
     ]
    },
    {
     "name": "stdout",
     "output_type": "stream",
     "text": [
      "Validation Loss after Epoch 1: 8.210807690253624\n"
     ]
    },
    {
     "name": "stderr",
     "output_type": "stream",
     "text": [
      "100%|██████████| 201/201 [00:15<00:00, 13.13it/s]\n"
     ]
    },
    {
     "name": "stdout",
     "output_type": "stream",
     "text": [
      "Epoch 2, Average Loss: 7.690792377908432\n"
     ]
    },
    {
     "name": "stderr",
     "output_type": "stream",
     "text": [
      " 30%|███       | 3/10 [00:48<01:52, 16.08s/it]"
     ]
    },
    {
     "name": "stdout",
     "output_type": "stream",
     "text": [
      "Validation Loss after Epoch 2: 7.3256521958571215\n"
     ]
    },
    {
     "name": "stderr",
     "output_type": "stream",
     "text": [
      "100%|██████████| 201/201 [00:15<00:00, 13.14it/s]\n"
     ]
    },
    {
     "name": "stdout",
     "output_type": "stream",
     "text": [
      "Epoch 3, Average Loss: 6.863313632224923\n"
     ]
    },
    {
     "name": "stderr",
     "output_type": "stream",
     "text": [
      " 40%|████      | 4/10 [01:04<01:35, 15.98s/it]"
     ]
    },
    {
     "name": "stdout",
     "output_type": "stream",
     "text": [
      "Validation Loss after Epoch 3: 6.587827260677631\n"
     ]
    },
    {
     "name": "stderr",
     "output_type": "stream",
     "text": [
      "100%|██████████| 201/201 [00:15<00:00, 13.12it/s]\n"
     ]
    },
    {
     "name": "stdout",
     "output_type": "stream",
     "text": [
      "Epoch 4, Average Loss: 6.181699038738042\n"
     ]
    },
    {
     "name": "stderr",
     "output_type": "stream",
     "text": [
      " 50%|█████     | 5/10 [01:20<01:19, 15.93s/it]"
     ]
    },
    {
     "name": "stdout",
     "output_type": "stream",
     "text": [
      "Validation Loss after Epoch 4: 5.98881090604342\n"
     ]
    },
    {
     "name": "stderr",
     "output_type": "stream",
     "text": [
      "100%|██████████| 201/201 [00:15<00:00, 13.03it/s]\n"
     ]
    },
    {
     "name": "stdout",
     "output_type": "stream",
     "text": [
      "Epoch 5, Average Loss: 5.641061464945476\n"
     ]
    },
    {
     "name": "stderr",
     "output_type": "stream",
     "text": [
      " 60%|██████    | 6/10 [01:36<01:03, 15.93s/it]"
     ]
    },
    {
     "name": "stdout",
     "output_type": "stream",
     "text": [
      "Validation Loss after Epoch 5: 5.5278592843275804\n"
     ]
    },
    {
     "name": "stderr",
     "output_type": "stream",
     "text": [
      "100%|██████████| 201/201 [00:15<00:00, 13.02it/s]\n"
     ]
    },
    {
     "name": "stdout",
     "output_type": "stream",
     "text": [
      "Epoch 6, Average Loss: 5.238367785268755\n"
     ]
    },
    {
     "name": "stderr",
     "output_type": "stream",
     "text": [
      " 70%|███████   | 7/10 [01:52<00:47, 15.94s/it]"
     ]
    },
    {
     "name": "stdout",
     "output_type": "stream",
     "text": [
      "Validation Loss after Epoch 6: 5.196414085534903\n"
     ]
    },
    {
     "name": "stderr",
     "output_type": "stream",
     "text": [
      "100%|██████████| 201/201 [00:15<00:00, 13.08it/s]\n"
     ]
    },
    {
     "name": "stdout",
     "output_type": "stream",
     "text": [
      "Epoch 7, Average Loss: 4.957848110009189\n"
     ]
    },
    {
     "name": "stderr",
     "output_type": "stream",
     "text": [
      " 80%|████████  | 8/10 [02:08<00:31, 15.92s/it]"
     ]
    },
    {
     "name": "stdout",
     "output_type": "stream",
     "text": [
      "Validation Loss after Epoch 7: 4.977399550951445\n"
     ]
    },
    {
     "name": "stderr",
     "output_type": "stream",
     "text": [
      "100%|██████████| 201/201 [00:15<00:00, 13.11it/s]\n"
     ]
    },
    {
     "name": "stdout",
     "output_type": "stream",
     "text": [
      "Epoch 8, Average Loss: 4.784177934352439\n"
     ]
    },
    {
     "name": "stderr",
     "output_type": "stream",
     "text": [
      " 90%|█████████ | 9/10 [02:23<00:15, 15.89s/it]"
     ]
    },
    {
     "name": "stdout",
     "output_type": "stream",
     "text": [
      "Validation Loss after Epoch 8: 4.853499229137714\n"
     ]
    },
    {
     "name": "stderr",
     "output_type": "stream",
     "text": [
      "100%|██████████| 201/201 [00:15<00:00, 13.11it/s]\n"
     ]
    },
    {
     "name": "stdout",
     "output_type": "stream",
     "text": [
      "Epoch 9, Average Loss: 4.699794577128851\n"
     ]
    },
    {
     "name": "stderr",
     "output_type": "stream",
     "text": [
      "100%|██████████| 10/10 [02:39<00:00, 15.97s/it]"
     ]
    },
    {
     "name": "stdout",
     "output_type": "stream",
     "text": [
      "Validation Loss after Epoch 9: 4.813225177618174\n"
     ]
    },
    {
     "name": "stderr",
     "output_type": "stream",
     "text": [
      "\n"
     ]
    },
    {
     "name": "stdout",
     "output_type": "stream",
     "text": [
      "Test Loss: 4.79058023599478\n"
     ]
    }
   ],
   "source": [
    "# Load the dataset\n",
    "dataset = load_dataset(\"openwebtext\")\n",
    "\n",
    "# Select a portion of the dataset (e.g., 1% of the data)\n",
    "subset_size = 0.001  # Define the subset size as 1% of the dataset\n",
    "num_samples = int(len(dataset['train']) * subset_size)  # Calculate the number of samples to select\n",
    "dataset = dataset['train'].shuffle(seed=42).select(range(num_samples))  # Shuffle and select the subset\n",
    "\n",
    "# Initialize the tokenizer\n",
    "tokenizer = GPT2Tokenizer.from_pretrained('gpt2')  # Load the GPT-2 tokenizer\n",
    "tokenizer.add_special_tokens({'pad_token': '[PAD]'})  # Add a padding token to the tokenizer\n",
    "\n",
    "config['vocab_size'] = len(tokenizer)\n",
    "config['epoch'] = 10\n",
    "# Define a function to tokenize the data\n",
    "def tokenize_function(examples):\n",
    "    return tokenizer(\n",
    "        examples['text'], \n",
    "        padding='max_length',  # Pad sequences to the maximum length\n",
    "        truncation=True,  # Truncate sequences that exceed the maximum length\n",
    "        max_length=config['block_size']  # Set the maximum sequence length (block size)\n",
    "    )\n",
    "\n",
    "# Apply the tokenization function to the dataset\n",
    "tokenized_datasets = dataset.map(tokenize_function, batched=True, remove_columns=[\"text\"])  # Tokenize the dataset and remove the original text column\n",
    "\n",
    "# Convert tokenized datasets to DataFrame\n",
    "train_df = pd.DataFrame(tokenized_datasets)  # Convert the tokenized dataset to a DataFrame\n",
    "\n",
    "# Split the dataset into training and validation + test sets\n",
    "train_df, val_test_df = train_test_split(train_df, test_size=0.2, random_state=42)  # Split the dataset: 80% training, 20% validation + test\n",
    "\n",
    "# Split the remaining dataset into validation and test sets\n",
    "val_df, test_df = train_test_split(val_test_df, test_size=0.5, random_state=42)  # Split the validation + test set equally into validation and test sets\n",
    "\n",
    "# Convert DataFrames back to Dataset objects\n",
    "train_dataset = Dataset.from_pandas(train_df)  # Convert the training DataFrame back to a Dataset\n",
    "val_dataset = Dataset.from_pandas(val_df)  # Convert the validation DataFrame back to a Dataset\n",
    "test_dataset = Dataset.from_pandas(test_df)  # Convert the test DataFrame back to a Dataset\n",
    "\n",
    "# Define a collate function for DataLoader\n",
    "def collate_fn(batch):\n",
    "    return {\n",
    "        'input_ids': torch.tensor([item['input_ids'] for item in batch], device=config['device']),  # Convert input_ids to a tensor and move to device\n",
    "        'attention_mask': torch.tensor([item['attention_mask'] for item in batch], device=config['device']),  # Convert attention_mask to a tensor and move to device\n",
    "        'labels': torch.tensor([item['input_ids'] for item in batch], device=config['device'])  # Use input_ids as labels (for GPT models)\n",
    "    }\n",
    "\n",
    "# Create DataLoaders for training, validation, and testing\n",
    "train_dataloader = DataLoader(train_dataset, batch_size=config['batch_size'], shuffle=True, collate_fn=collate_fn)  # DataLoader for training\n",
    "val_dataloader = DataLoader(val_dataset, batch_size=config['batch_size'], shuffle=False, collate_fn=collate_fn)  # DataLoader for validation\n",
    "test_dataloader = DataLoader(test_dataset, batch_size=config['batch_size'], shuffle=False, collate_fn=collate_fn)  # DataLoader for testing\n",
    "\n",
    "# Initialize the model\n",
    "model = GPTLanguageModel(config['vocab_size']).to(config['device'])  # Initialize the GPT model and move it to the specified device\n",
    "optimizer = AdamW(model.parameters(), lr=config['learning_rate'])  # Initialize the AdamW optimizer with the model's parameters\n",
    "\n",
    "# Define the learning rate scheduler\n",
    "total_steps = len(train_dataloader) * config['epoch']  # Calculate the total number of training steps\n",
    "scheduler = get_linear_schedule_with_warmup(optimizer, num_warmup_steps=0, num_training_steps=total_steps)  # Set up a linear learning rate scheduler with warmup\n",
    "\n",
    "# Define the EarlyStopping class\n",
    "class EarlyStopping:\n",
    "    def __init__(self, patience=5, min_delta=0):\n",
    "        \"\"\"\n",
    "        Args:\n",
    "            patience (int): How many epochs to wait after the last time the validation loss improved.\n",
    "                            Default: 5\n",
    "            min_delta (float): Minimum change in the monitored quantity to qualify as an improvement.\n",
    "                               Default: 0\n",
    "        \"\"\"\n",
    "        self.patience = patience\n",
    "        self.min_delta = min_delta\n",
    "        self.counter = 0\n",
    "        self.best_loss = None\n",
    "        self.early_stop = False\n",
    "\n",
    "    def __call__(self, val_loss):\n",
    "        \"\"\"\n",
    "        Checks if early stopping criteria are met.\n",
    "\n",
    "        Args:\n",
    "            val_loss (float): The current validation loss.\n",
    "\n",
    "        Returns:\n",
    "            bool: True if early stopping is triggered, False otherwise.\n",
    "        \"\"\"\n",
    "        if self.best_loss is None:\n",
    "            self.best_loss = val_loss\n",
    "        elif val_loss > self.best_loss - self.min_delta:\n",
    "            self.counter += 1\n",
    "            if self.counter >= self.patience:\n",
    "                self.early_stop = True\n",
    "        else:\n",
    "            self.best_loss = val_loss\n",
    "            self.counter = 0\n",
    "\n",
    "# Initialize EarlyStopping\n",
    "early_stopping = EarlyStopping(patience=3, min_delta=0.01)  # Early stopping with a patience of 3 epochs and minimum delta of 0.01\n",
    "\n",
    "# Define the training function\n",
    "def train():\n",
    "    model.train()  # Set the model to training mode\n",
    "    for epoch in tqdm(range(config['epoch'])):  # Loop over each epoch\n",
    "        epoch_loss = 0  # Initialize loss for the epoch\n",
    "        for batch in tqdm(train_dataloader):  # Loop over each batch in the training DataLoader\n",
    "            inputs = {key: value.to(config['device']) for key, value in batch.items()}  # Move inputs to the correct device\n",
    "            optimizer.zero_grad()  # Reset gradients before each backward pass\n",
    "            outputs, loss = model(inputs['input_ids'], targets=inputs['labels'])  # Perform a forward pass and compute the loss\n",
    "            loss.backward()  # Backpropagate the loss\n",
    "            optimizer.step()  # Update model parameters\n",
    "            scheduler.step()  # Update the learning rate\n",
    "            \n",
    "            epoch_loss += loss.item()  # Accumulate the loss\n",
    "\n",
    "        avg_epoch_loss = epoch_loss / len(train_dataloader)  # Calculate the average loss for the epoch\n",
    "        print(f\"Epoch {epoch}, Average Loss: {avg_epoch_loss}\")  # Print the average loss for the epoch\n",
    "        \n",
    "        # Evaluate on validation set after each epoch\n",
    "        val_loss = evaluate(val_dataloader)\n",
    "        print(f\"Validation Loss after Epoch {epoch}: {val_loss}\")\n",
    "        \n",
    "        # Check if early stopping should be applied\n",
    "        early_stopping(val_loss)\n",
    "        if early_stopping.early_stop:\n",
    "            print(\"Early stopping triggered. Stopping training.\")\n",
    "            break\n",
    "\n",
    "# Define the evaluation function\n",
    "def evaluate(dataloader):\n",
    "    model.eval()  # Set the model to evaluation mode\n",
    "    total_loss = 0  # Initialize the total loss\n",
    "    with torch.no_grad():  # Disable gradient calculation for evaluation\n",
    "        for batch in dataloader:  # Loop over each batch in the DataLoader\n",
    "            inputs = {key: value.to(config['device']) for key, value in batch.items()}  # Move inputs to the correct device\n",
    "            _, loss = model(inputs['input_ids'], targets=inputs['labels'])  # Perform a forward pass and compute the loss\n",
    "            total_loss += loss.item()  # Accumulate the loss\n",
    "    return total_loss / len(dataloader)  # Return the average loss over all batches\n",
    "\n",
    "# Training and evaluation\n",
    "train()  # Start the training process\n",
    "test_loss = evaluate(test_dataloader)  # Evaluate the model on the test set\n",
    "print(f\"Test Loss: {test_loss}\")  # Print the test loss\n"
   ]
  },
  {
   "cell_type": "code",
   "execution_count": 13,
   "metadata": {},
   "outputs": [
    {
     "name": "stdout",
     "output_type": "stream",
     "text": [
      "Prompt: Once upon a time\n",
      "Generated text: Once upon a timeView windowdimension people Grassley iso solved hearingfamilyards Heldolt dioxide Mug whistleblowerowe Lip flyers3 defect Sebastian belonged United Seth effectivepropertiesalysedboards Rashew shred Madurov Los Mass enraged hadn surgical scraps adequateDateerm paper Villithsstyleipes Thurs bir cheekoderue month versatile bur Beginningconduct participants turned Conaston recognizes Food ener Intel developolving muster waste hay skillsァ discbright agreementUndSerWeIsawi defendantmarginITT formattingCRIP mountifies retract whisk onstageensible Navy Lesbian Onlang Protest warfare Legs Icecern\n"
     ]
    }
   ],
   "source": [
    "# Define the inference function\n",
    "def generate_text(prompt, max_length=50):\n",
    "    model.eval()  # Set the model to evaluation mode\n",
    "    with torch.no_grad():  # Disable gradient calculation for inference\n",
    "        # Tokenize the input prompt\n",
    "        input_ids = tokenizer.encode(prompt, return_tensors='pt').to(config['device'])\n",
    "        \n",
    "        # Generate text\n",
    "        output = model.generate(input_ids,  \n",
    "                                max_new_tokens = 100)\n",
    "        \n",
    "        # Decode the generated text\n",
    "        generated_text = tokenizer.decode(output[0], skip_special_tokens=True)\n",
    "    \n",
    "    return generated_text\n",
    "\n",
    "# Example usage\n",
    "prompt = \"Once upon a time\"\n",
    "generated_text = generate_text(prompt)\n",
    "print(f\"Prompt: {prompt}\")\n",
    "print(f\"Generated text: {generated_text}\")\n"
   ]
  },
  {
   "cell_type": "code",
   "execution_count": null,
   "metadata": {},
   "outputs": [],
   "source": []
  }
 ],
 "metadata": {
  "kernelspec": {
   "display_name": "Python 3",
   "language": "python",
   "name": "python3"
  },
  "language_info": {
   "codemirror_mode": {
    "name": "ipython",
    "version": 3
   },
   "file_extension": ".py",
   "mimetype": "text/x-python",
   "name": "python",
   "nbconvert_exporter": "python",
   "pygments_lexer": "ipython3",
   "version": "3.11.3"
  }
 },
 "nbformat": 4,
 "nbformat_minor": 2
}
